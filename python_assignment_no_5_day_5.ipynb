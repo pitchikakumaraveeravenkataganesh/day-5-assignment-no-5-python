{
  "nbformat": 4,
  "nbformat_minor": 0,
  "metadata": {
    "colab": {
      "name": "python assignment no :5 day 5.ipynb",
      "provenance": [],
      "authorship_tag": "ABX9TyOfeqfKMZ8yaLYZ24EgjIy+",
      "include_colab_link": true
    },
    "kernelspec": {
      "name": "python3",
      "display_name": "Python 3"
    },
    "language_info": {
      "name": "python"
    }
  },
  "cells": [
    {
      "cell_type": "markdown",
      "metadata": {
        "id": "view-in-github",
        "colab_type": "text"
      },
      "source": [
        "<a href=\"https://colab.research.google.com/github/pitchikakumaraveeravenkataganesh/day-5-assignment-no-5-python/blob/main/python_assignment_no_5_day_5.ipynb\" target=\"_parent\"><img src=\"https://colab.research.google.com/assets/colab-badge.svg\" alt=\"Open In Colab\"/></a>"
      ]
    },
    {
      "cell_type": "code",
      "metadata": {
        "id": "ASGeEsmSBMt2"
      },
      "source": [
        "#check weather the given number is prime or not\n"
      ],
      "execution_count": null,
      "outputs": []
    },
    {
      "cell_type": "code",
      "metadata": {
        "colab": {
          "base_uri": "https://localhost:8080/"
        },
        "id": "OzbR6t-aBeoP",
        "outputId": "c6000b74-f700-4e57-b19b-5a1aa12b1ad9"
      },
      "source": [
        "def isprime(num):\n",
        "      for i in range(2,int(num/2+1)):\n",
        "           if (num%i == 0):\n",
        "                print(num,\"number is not a prime number\")\n",
        "                break\n",
        "           else:\n",
        "                 print(num,\"number is a prime number\")\n",
        "\n",
        "print(\"plz enter a number: \")\n",
        "a = int(input())\n",
        "isprime(a)\n",
        "\n",
        "        "
      ],
      "execution_count": 32,
      "outputs": [
        {
          "output_type": "stream",
          "text": [
            "plz enter a number: \n",
            "5\n",
            "5 number is a prime number\n"
          ],
          "name": "stdout"
        }
      ]
    }
  ]
}